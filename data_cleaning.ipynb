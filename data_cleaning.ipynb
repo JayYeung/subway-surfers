{
 "cells": [
  {
   "cell_type": "code",
   "execution_count": 24,
   "metadata": {},
   "outputs": [
    {
     "name": "stderr",
     "output_type": "stream",
     "text": [
      "Processing images: 100%|██████████| 535/535 [01:07<00:00,  7.88it/s]"
     ]
    },
    {
     "name": "stdout",
     "output_type": "stream",
     "text": [
      "HDF5 file created with image data and labels.\n"
     ]
    },
    {
     "name": "stderr",
     "output_type": "stream",
     "text": [
      "\n"
     ]
    }
   ],
   "source": [
    "import os\n",
    "import h5py\n",
    "from PIL import Image\n",
    "import numpy as np\n",
    "from tqdm import tqdm\n",
    "\n",
    "path = \"data\"\n",
    "image_data = []\n",
    "labels = []\n",
    "\n",
    "WIDTH = 3024\n",
    "HEIGHT = 1490\n",
    "SHRINK_FACTOR = 10\n",
    "\n",
    "one_hot_encoding = {\n",
    "    'left': 0, \n",
    "    'right': 1,\n",
    "    'up': 2,\n",
    "    'down': 3\n",
    "}\n",
    "\n",
    "for filename in tqdm(os.listdir(path), desc=\"Processing images\"):\n",
    "    if filename.endswith(\".png\"):\n",
    "        file_path = os.path.join(path, filename)\n",
    "        img = Image.open(file_path).resize((WIDTH // SHRINK_FACTOR, HEIGHT // SHRINK_FACTOR))\n",
    "        img_array = np.array(img)\n",
    "        image_data.append(img_array)\n",
    "        encoding = [0] * 4\n",
    "        encoding[one_hot_encoding[filename.split('_')[-1].split('.')[0]]] = 1\n",
    "        labels.append(encoding)\n",
    "\n",
    "image_data = np.array(image_data)\n",
    "labels = np.array(labels)\n",
    "\n",
    "with h5py.File('image_data_with_labels.h5', 'w') as hf:\n",
    "    hf.create_dataset('image_data', data=image_data)\n",
    "    hf.create_dataset('labels', data=labels)\n",
    "\n",
    "print(\"HDF5 file created with image data and labels.\")\n"
   ]
  },
  {
   "cell_type": "code",
   "execution_count": 25,
   "metadata": {},
   "outputs": [
    {
     "data": {
      "text/plain": [
       "(535, 149, 302, 4)"
      ]
     },
     "execution_count": 25,
     "metadata": {},
     "output_type": "execute_result"
    }
   ],
   "source": [
    "image_data.shape"
   ]
  },
  {
   "cell_type": "code",
   "execution_count": 1,
   "metadata": {},
   "outputs": [
    {
     "ename": "NameError",
     "evalue": "name 'labels' is not defined",
     "output_type": "error",
     "traceback": [
      "\u001b[0;31m---------------------------------------------------------------------------\u001b[0m",
      "\u001b[0;31mNameError\u001b[0m                                 Traceback (most recent call last)",
      "Cell \u001b[0;32mIn[1], line 1\u001b[0m\n\u001b[0;32m----> 1\u001b[0m \u001b[43mlabels\u001b[49m\u001b[38;5;241m.\u001b[39mshape\n",
      "\u001b[0;31mNameError\u001b[0m: name 'labels' is not defined"
     ]
    }
   ],
   "source": [
    "labels.shape"
   ]
  },
  {
   "cell_type": "code",
   "execution_count": null,
   "metadata": {},
   "outputs": [],
   "source": []
  }
 ],
 "metadata": {
  "kernelspec": {
   "display_name": "Python 3",
   "language": "python",
   "name": "python3"
  },
  "language_info": {
   "codemirror_mode": {
    "name": "ipython",
    "version": 3
   },
   "file_extension": ".py",
   "mimetype": "text/x-python",
   "name": "python",
   "nbconvert_exporter": "python",
   "pygments_lexer": "ipython3",
   "version": "3.11.6"
  }
 },
 "nbformat": 4,
 "nbformat_minor": 2
}
