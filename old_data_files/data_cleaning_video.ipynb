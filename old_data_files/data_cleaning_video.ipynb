{
 "cells": [
  {
   "cell_type": "code",
   "execution_count": 58,
   "metadata": {},
   "outputs": [],
   "source": [
    "import os\n",
    "import csv\n",
    "import h5py\n",
    "from PIL import Image\n",
    "import numpy as np\n",
    "from tqdm import tqdm\n",
    "\n",
    "path = \"data\"\n",
    "actions_file = f\"{path}/_actions.csv\"\n",
    "time_window = [-0.2, 0.15]  "
   ]
  },
  {
   "cell_type": "code",
   "execution_count": 59,
   "metadata": {},
   "outputs": [],
   "source": [
    "actions = {}\n",
    "with open(actions_file, mode='r') as csvfile:\n",
    "    csvreader = csv.reader(csvfile)\n",
    "    next(csvreader)  # Skip header\n",
    "    for row in csvreader:\n",
    "        run_number, action, timestamp = row\n",
    "        if run_number not in actions:\n",
    "            actions[run_number] = []\n",
    "        actions[run_number].append((float(timestamp), action))\n",
    "    for run_number in actions:\n",
    "        actions[run_number].sort() "
   ]
  },
  {
   "cell_type": "code",
   "execution_count": 60,
   "metadata": {},
   "outputs": [],
   "source": [
    "def find_actions_in_range(run_number, timestamp):\n",
    "    if run_number not in actions:\n",
    "        return ['nothing']\n",
    "    in_range_actions = set()\n",
    "\n",
    "    for action_timestamp, action in actions[run_number]:\n",
    "        if time_window[0] <= timestamp - action_timestamp <= time_window[1]:\n",
    "            in_range_actions.add(action)\n",
    "\n",
    "    return list(in_range_actions) if in_range_actions else ['nothing']"
   ]
  },
  {
   "cell_type": "code",
   "execution_count": 61,
   "metadata": {},
   "outputs": [
    {
     "name": "stderr",
     "output_type": "stream",
     "text": [
      "Processing images:  71%|███████   | 6106/8652 [03:04<01:16, 33.14it/s]  \n"
     ]
    }
   ],
   "source": [
    "from util.my_utils import ACTIONS, ACTION_TO_INDEX, extract_info\n",
    "\n",
    "image_data = []\n",
    "labels = []\n",
    "\n",
    "for filename in tqdm(os.listdir(path), desc=\"Processing images\"):\n",
    "    if filename.endswith(\".png\"):\n",
    "        file_path = os.path.join(path, filename)\n",
    "        img = Image.open(file_path).convert('RGB')\n",
    "        img_array = np.array(img)\n",
    "\n",
    "        run_number, timestamp = extract_info(filename)\n",
    "        in_range_actions = find_actions_in_range(run_number, float(timestamp))\n",
    "        label = [0] * len(ACTIONS)\n",
    "        for action in in_range_actions:\n",
    "            label[ACTION_TO_INDEX[action]] = 1\n",
    "\n",
    "        image_data.append(img_array)\n",
    "        labels.append(label)"
   ]
  },
  {
   "cell_type": "code",
   "execution_count": null,
   "metadata": {},
   "outputs": [
    {
     "name": "stdout",
     "output_type": "stream",
     "text": [
      "Balanced HDF5 file created with image data and labels.\n"
     ]
    }
   ],
   "source": [
    "import numpy as np\n",
    "import h5py\n",
    "from sklearn.utils import shuffle\n",
    "\n",
    "image_data = np.array(image_data)\n",
    "labels = np.array(labels)\n",
    "\n",
    "not_nothing_indices = np.where(labels[:, 4] == 0)[0] \n",
    "nothing_indices = np.where(labels[:, 4] == 1)[0]\n",
    "nothing_indices = np.random.choice(nothing_indices, int(len(not_nothing_indices) * 0.5), replace=False)\n",
    "\n",
    "indices = np.concatenate((not_nothing_indices, nothing_indices))\n",
    "indices = shuffle(indices)\n",
    "\n",
    "final_image_data = image_data[indices]\n",
    "final_labels = labels[indices]\n",
    "\n",
    "with h5py.File('image_data_with_labels.h5', 'w') as hf:\n",
    "    hf.create_dataset('image_data', data=final_image_data)\n",
    "    hf.create_dataset('labels', data=final_labels)\n",
    "\n",
    "print(\"Balanced HDF5 file created with image data and labels.\")"
   ]
  },
  {
   "cell_type": "code",
   "execution_count": null,
   "metadata": {},
   "outputs": [
    {
     "name": "stdout",
     "output_type": "stream",
     "text": [
      "(1665, 620, 1140, 3)\n",
      "[388 380 196 151 555]\n"
     ]
    }
   ],
   "source": [
    "print(final_image_data.shape)\n",
    "print(final_labels.sum(axis=0))"
   ]
  },
  {
   "cell_type": "code",
   "execution_count": null,
   "metadata": {},
   "outputs": [
    {
     "data": {
      "text/plain": [
       "<BarContainer object of 5 artists>"
      ]
     },
     "execution_count": 56,
     "metadata": {},
     "output_type": "execute_result"
    },
    {
     "data": {
      "image/png": "[encoded data removed]",
      "text/plain": [
       "<Figure size 640x480 with 1 Axes>"
      ]
     },
     "metadata": {},
     "output_type": "display_data"
    }
   ],
   "source": [
    "from matplotlib import pyplot as plt\n",
    "# barh graph of each label type\n",
    "\n",
    "plt.barh(list(ACTION_TO_INDEX.keys()), final_labels.sum(axis=0))"
   ]
  },
  {
   "cell_type": "code",
   "execution_count": null,
   "metadata": {},
   "outputs": [],
   "source": []
  }
 ],
 "metadata": {
  "kernelspec": {
   "display_name": "Python 3",
   "language": "python",
   "name": "python3"
  },
  "language_info": {
   "codemirror_mode": {
    "name": "ipython",
    "version": 3
   },
   "file_extension": ".py",
   "mimetype": "text/x-python",
   "name": "python",
   "nbconvert_exporter": "python",
   "pygments_lexer": "ipython3",
   "version": "3.11.6"
  }
 },
 "nbformat": 4,
 "nbformat_minor": 2
}
