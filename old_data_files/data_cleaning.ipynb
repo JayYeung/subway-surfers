{
 "cells": [
  {
   "cell_type": "code",
   "execution_count": 23,
   "metadata": {},
   "outputs": [
    {
     "name": "stderr",
     "output_type": "stream",
     "text": [
      "Processing images: 100%|██████████| 2011/2011 [00:18<00:00, 109.85it/s]\n"
     ]
    },
    {
     "name": "stdout",
     "output_type": "stream",
     "text": [
      "HDF5 file created with image data and labels.\n"
     ]
    }
   ],
   "source": [
    "import os\n",
    "import h5py\n",
    "from PIL import Image\n",
    "import numpy as np\n",
    "from tqdm import tqdm\n",
    "from util.my_utils import WIDTH, HEIGHT\n",
    "\n",
    "path = \"datav2\"\n",
    "image_data = []\n",
    "labels = []\n",
    "\n",
    "one_hot_encoding = {\n",
    "    'left': 0, \n",
    "    'right': 1,\n",
    "    'up': 2,\n",
    "    'down': 3, \n",
    "    'nothing': 4   \n",
    "}\n",
    "\n",
    "# Process a single image for preview\n",
    "# for filename in os.listdir(path):\n",
    "#     if filename.endswith(\".png\"):\n",
    "#         file_path = os.path.join(path, filename)\n",
    "#         print('Image Size: ', Image.open(file_path).size)\n",
    "#         img = Image.open(file_path)\n",
    "#         img.show()  \n",
    "#         break \n",
    "\n",
    "for filename in tqdm(os.listdir(path), desc=\"Processing images\"):\n",
    "    if filename.endswith(\".png\"):\n",
    "        file_path = os.path.join(path, filename)\n",
    "        img = Image.open(file_path).convert('RGB')\n",
    "        img_array = np.array(img)\n",
    "        image_data.append(img_array)\n",
    "        encoding = [0] * 5\n",
    "        encoding[one_hot_encoding[filename.split('_')[-1].split('.')[0]]] = 1\n",
    "        labels.append(encoding)\n",
    "\n",
    "image_data = np.array(image_data)\n",
    "labels = np.array(labels)\n",
    "\n",
    "with h5py.File('image_data_with_labels.h5', 'w') as hf:\n",
    "    hf.create_dataset('image_data', data=image_data)\n",
    "    hf.create_dataset('labels', data=labels)\n",
    "\n",
    "print(\"HDF5 file created with image data and labels.\")"
   ]
  },
  {
   "cell_type": "code",
   "execution_count": 24,
   "metadata": {},
   "outputs": [
    {
     "data": {
      "text/plain": [
       "(2011, 310, 570, 3)"
      ]
     },
     "execution_count": 24,
     "metadata": {},
     "output_type": "execute_result"
    }
   ],
   "source": [
    "image_data.shape"
   ]
  },
  {
   "cell_type": "code",
   "execution_count": 25,
   "metadata": {},
   "outputs": [
    {
     "data": {
      "text/plain": [
       "(2011, 5)"
      ]
     },
     "execution_count": 25,
     "metadata": {},
     "output_type": "execute_result"
    }
   ],
   "source": [
    "labels.shape"
   ]
  },
  {
   "cell_type": "code",
   "execution_count": 26,
   "metadata": {},
   "outputs": [
    {
     "data": {
      "text/plain": [
       "<BarContainer object of 5 artists>"
      ]
     },
     "execution_count": 26,
     "metadata": {},
     "output_type": "execute_result"
    },
    {
     "data": {
      "image/png": "[encoded data removed]",
      "text/plain": [
       "<Figure size 640x480 with 1 Axes>"
      ]
     },
     "metadata": {},
     "output_type": "display_data"
    }
   ],
   "source": [
    "from matplotlib import pyplot as plt\n",
    "# barh graph of each label type\n",
    "\n",
    "plt.barh(list(one_hot_encoding.keys()), labels.sum(axis=0))"
   ]
  },
  {
   "cell_type": "code",
   "execution_count": 20,
   "metadata": {},
   "outputs": [
    {
     "name": "stdout",
     "output_type": "stream",
     "text": [
      "[374 384 250  93 201]\n"
     ]
    }
   ],
   "source": [
    "print(labels.sum(axis=0))"
   ]
  },
  {
   "cell_type": "code",
   "execution_count": null,
   "metadata": {},
   "outputs": [],
   "source": []
  }
 ],
 "metadata": {
  "kernelspec": {
   "display_name": "Python 3",
   "language": "python",
   "name": "python3"
  },
  "language_info": {
   "codemirror_mode": {
    "name": "ipython",
    "version": 3
   },
   "file_extension": ".py",
   "mimetype": "text/x-python",
   "name": "python",
   "nbconvert_exporter": "python",
   "pygments_lexer": "ipython3",
   "version": "3.11.6"
  }
 },
 "nbformat": 4,
 "nbformat_minor": 2
}
